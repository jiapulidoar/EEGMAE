{
 "cells": [
  {
   "cell_type": "code",
   "execution_count": 1,
   "metadata": {},
   "outputs": [
    {
     "name": "stderr",
     "output_type": "stream",
     "text": [
      "/home/cnelab-workstation/anaconda3/envs/dreamdiffusion/lib/python3.8/site-packages/tqdm/auto.py:22: TqdmWarning: IProgress not found. Please update jupyter and ipywidgets. See https://ipywidgets.readthedocs.io/en/stable/user_install.html\n",
      "  from .autonotebook import tqdm as notebook_tqdm\n"
     ]
    }
   ],
   "source": [
    "import dataset\n",
    "import models_mae\n",
    "import numpy as np \n",
    "import matplotlib.pyplot as plt\n",
    "import torch\n",
    "import timm.optim.optim_factory as optim_factory\n",
    "from util.misc import NativeScalerWithGradNormCount as NativeScaler\n",
    "import time\n",
    "import datetime\n",
    "from engine_pretrain import train_one_epoch\n",
    "\n"
   ]
  },
  {
   "cell_type": "code",
   "execution_count": 2,
   "metadata": {},
   "outputs": [],
   "source": [
    "nfft = 128 \n",
    "hop_length=16 \n",
    "spec_size=(64,64)\n",
    "in_chans = 128\n",
    "eegdataset = dataset.EEGDataset('./dataset/mne_data/', nfft = nfft, hop_length=hop_length, spec_size=spec_size)"
   ]
  },
  {
   "cell_type": "code",
   "execution_count": 3,
   "metadata": {},
   "outputs": [
    {
     "name": "stderr",
     "output_type": "stream",
     "text": [
      "/home/cnelab-workstation/anaconda3/envs/dreamdiffusion/lib/python3.8/site-packages/torchvision/transforms/functional.py:1603: UserWarning: The default value of the antialias parameter of all the resizing transforms (Resize(), RandomResizedCrop(), etc.) will change from None to True in v0.17, in order to be consistent across the PIL and Tensor backends. To suppress this warning, directly pass antialias=True (recommended, future default), antialias=None (current default, which means False for Tensors and True for PIL), or antialias=False (only works on Tensors - PIL will still use antialiasing). This also applies if you are using the inference transforms from the models weights: update the call to weights.transforms(antialias=True).\n",
      "  warnings.warn(\n"
     ]
    },
    {
     "data": {
      "image/png": "[encoded data removed]",
      "text/plain": [
       "<Figure size 640x480 with 1 Axes>"
      ]
     },
     "metadata": {},
     "output_type": "display_data"
    }
   ],
   "source": [
    "x = eegdataset.__getitem__(0)[0].numpy()\n",
    "t = np.linspace(0, 5, 512)\n",
    "\n",
    "_ = plt.imshow(x.squeeze()[11], aspect=\"auto\", origin=\"lower\")"
   ]
  },
  {
   "cell_type": "code",
   "execution_count": 4,
   "metadata": {},
   "outputs": [],
   "source": [
    "import timm"
   ]
  },
  {
   "cell_type": "code",
   "execution_count": 5,
   "metadata": {},
   "outputs": [
    {
     "data": {
      "text/plain": [
       "<module 'timm.version' from '/home/cnelab-workstation/anaconda3/envs/dreamdiffusion/lib/python3.8/site-packages/timm/version.py'>"
      ]
     },
     "execution_count": 5,
     "metadata": {},
     "output_type": "execute_result"
    }
   ],
   "source": [
    "timm.version"
   ]
  },
  {
   "cell_type": "code",
   "execution_count": 6,
   "metadata": {},
   "outputs": [],
   "source": [
    "torch.manual_seed(42)\n",
    "device = torch.device('cuda')\n",
    "batch_size = 16\n",
    "accum_iter = 1\n",
    "blr = 1e-3\n",
    "weight_decay = 0.05\n",
    "epochs = 100\n",
    "\n",
    "eff_batch_size = batch_size * accum_iter\n",
    "lr = blr * eff_batch_size / 256"
   ]
  },
  {
   "cell_type": "code",
   "execution_count": 7,
   "metadata": {},
   "outputs": [],
   "source": [
    "class Namespace:\n",
    "    def __init__(self, **kwargs):\n",
    "        self.__dict__.update(kwargs)\n",
    "\n",
    "args = Namespace(accum_iter=1, mask_ratio=0.8, batch_size=batch_size, lr = blr, warmup_epochs=40, min_lr=0., epochs=epochs)"
   ]
  },
  {
   "cell_type": "code",
   "execution_count": 8,
   "metadata": {},
   "outputs": [],
   "source": [
    "# DatasetLoader\n",
    "\n",
    "data_loader_train = torch.utils.data.DataLoader(\n",
    "        eegdataset, sampler=None,\n",
    "        batch_size=batch_size,\n",
    "        num_workers=10,\n",
    "        pin_memory=True,\n",
    "        drop_last=True,\n",
    "    )"
   ]
  },
  {
   "cell_type": "code",
   "execution_count": 9,
   "metadata": {},
   "outputs": [
    {
     "data": {
      "text/plain": [
       "MaskedAutoencoderViT(\n",
       "  (patch_embed): PatchEmbed_org(\n",
       "    (proj): Conv2d(128, 768, kernel_size=(4, 4), stride=(4, 4))\n",
       "  )\n",
       "  (blocks): ModuleList(\n",
       "    (0-5): 6 x Block(\n",
       "      (norm1): LayerNorm((768,), eps=1e-06, elementwise_affine=True)\n",
       "      (attn): Attention(\n",
       "        (qkv): Linear(in_features=768, out_features=2304, bias=True)\n",
       "        (attn_drop): Dropout(p=0.0, inplace=False)\n",
       "        (proj): Linear(in_features=768, out_features=768, bias=True)\n",
       "        (proj_drop): Dropout(p=0.0, inplace=False)\n",
       "      )\n",
       "      (drop_path): Identity()\n",
       "      (norm2): LayerNorm((768,), eps=1e-06, elementwise_affine=True)\n",
       "      (mlp): Mlp(\n",
       "        (fc1): Linear(in_features=768, out_features=3072, bias=True)\n",
       "        (act): GELU(approximate='none')\n",
       "        (drop1): Dropout(p=0.0, inplace=False)\n",
       "        (fc2): Linear(in_features=3072, out_features=768, bias=True)\n",
       "        (drop2): Dropout(p=0.0, inplace=False)\n",
       "      )\n",
       "    )\n",
       "  )\n",
       "  (norm): LayerNorm((768,), eps=1e-06, elementwise_affine=True)\n",
       "  (decoder_embed): Linear(in_features=768, out_features=512, bias=True)\n",
       "  (decoder_blocks): ModuleList(\n",
       "    (0-7): 8 x Block(\n",
       "      (norm1): LayerNorm((512,), eps=1e-06, elementwise_affine=True)\n",
       "      (attn): Attention(\n",
       "        (qkv): Linear(in_features=512, out_features=1536, bias=True)\n",
       "        (attn_drop): Dropout(p=0.0, inplace=False)\n",
       "        (proj): Linear(in_features=512, out_features=512, bias=True)\n",
       "        (proj_drop): Dropout(p=0.0, inplace=False)\n",
       "      )\n",
       "      (drop_path): Identity()\n",
       "      (norm2): LayerNorm((512,), eps=1e-06, elementwise_affine=True)\n",
       "      (mlp): Mlp(\n",
       "        (fc1): Linear(in_features=512, out_features=2048, bias=True)\n",
       "        (act): GELU(approximate='none')\n",
       "        (drop1): Dropout(p=0.0, inplace=False)\n",
       "        (fc2): Linear(in_features=2048, out_features=512, bias=True)\n",
       "        (drop2): Dropout(p=0.0, inplace=False)\n",
       "      )\n",
       "    )\n",
       "  )\n",
       "  (decoder_norm): LayerNorm((512,), eps=1e-06, elementwise_affine=True)\n",
       "  (decoder_pred): Linear(in_features=512, out_features=2048, bias=True)\n",
       "  (log_softmax): LogSoftmax(dim=-1)\n",
       ")"
      ]
     },
     "execution_count": 9,
     "metadata": {},
     "output_type": "execute_result"
    }
   ],
   "source": [
    "mask_2d=False\n",
    "mask_t_prob=0.5\n",
    "mask_f_prob=0.3\n",
    "audio_exp=True\n",
    "\n",
    "maeeeg = models_mae.maeeg_vit_base_patch4_dec512d8b( in_chans = in_chans, img_size= spec_size, mask_2d=mask_2d,\n",
    "                                                     mask_t_prob=mask_t_prob, mask_f_prob=mask_f_prob,audio_exp=audio_exp )\n",
    "\n",
    "maeeeg.to(device)"
   ]
  },
  {
   "cell_type": "code",
   "execution_count": 10,
   "metadata": {},
   "outputs": [
    {
     "name": "stdout",
     "output_type": "stream",
     "text": [
      "Model = MaskedAutoencoderViT(\n",
      "  (patch_embed): PatchEmbed_org(\n",
      "    (proj): Conv2d(128, 768, kernel_size=(4, 4), stride=(4, 4))\n",
      "  )\n",
      "  (blocks): ModuleList(\n",
      "    (0-5): 6 x Block(\n",
      "      (norm1): LayerNorm((768,), eps=1e-06, elementwise_affine=True)\n",
      "      (attn): Attention(\n",
      "        (qkv): Linear(in_features=768, out_features=2304, bias=True)\n",
      "        (attn_drop): Dropout(p=0.0, inplace=False)\n",
      "        (proj): Linear(in_features=768, out_features=768, bias=True)\n",
      "        (proj_drop): Dropout(p=0.0, inplace=False)\n",
      "      )\n",
      "      (drop_path): Identity()\n",
      "      (norm2): LayerNorm((768,), eps=1e-06, elementwise_affine=True)\n",
      "      (mlp): Mlp(\n",
      "        (fc1): Linear(in_features=768, out_features=3072, bias=True)\n",
      "        (act): GELU(approximate='none')\n",
      "        (drop1): Dropout(p=0.0, inplace=False)\n",
      "        (fc2): Linear(in_features=3072, out_features=768, bias=True)\n",
      "        (drop2): Dropout(p=0.0, inplace=False)\n",
      "      )\n",
      "    )\n",
      "  )\n",
      "  (norm): LayerNorm((768,), eps=1e-06, elementwise_affine=True)\n",
      "  (decoder_embed): Linear(in_features=768, out_features=512, bias=True)\n",
      "  (decoder_blocks): ModuleList(\n",
      "    (0-7): 8 x Block(\n",
      "      (norm1): LayerNorm((512,), eps=1e-06, elementwise_affine=True)\n",
      "      (attn): Attention(\n",
      "        (qkv): Linear(in_features=512, out_features=1536, bias=True)\n",
      "        (attn_drop): Dropout(p=0.0, inplace=False)\n",
      "        (proj): Linear(in_features=512, out_features=512, bias=True)\n",
      "        (proj_drop): Dropout(p=0.0, inplace=False)\n",
      "      )\n",
      "      (drop_path): Identity()\n",
      "      (norm2): LayerNorm((512,), eps=1e-06, elementwise_affine=True)\n",
      "      (mlp): Mlp(\n",
      "        (fc1): Linear(in_features=512, out_features=2048, bias=True)\n",
      "        (act): GELU(approximate='none')\n",
      "        (drop1): Dropout(p=0.0, inplace=False)\n",
      "        (fc2): Linear(in_features=2048, out_features=512, bias=True)\n",
      "        (drop2): Dropout(p=0.0, inplace=False)\n",
      "      )\n",
      "    )\n",
      "  )\n",
      "  (decoder_norm): LayerNorm((512,), eps=1e-06, elementwise_affine=True)\n",
      "  (decoder_pred): Linear(in_features=512, out_features=2048, bias=True)\n",
      "  (log_softmax): LogSoftmax(dim=-1)\n",
      ")\n",
      "base lr: 1.00e-03\n",
      "actual lr: 6.25e-05\n",
      "accumulate grad iterations: 1\n",
      "effective batch size: 16\n",
      "AdamW (\n",
      "Parameter Group 0\n",
      "    amsgrad: False\n",
      "    betas: (0.9, 0.95)\n",
      "    capturable: False\n",
      "    differentiable: False\n",
      "    eps: 1e-08\n",
      "    foreach: None\n",
      "    fused: None\n",
      "    lr: 6.25e-05\n",
      "    maximize: False\n",
      "    weight_decay: 0.0\n",
      "\n",
      "Parameter Group 1\n",
      "    amsgrad: False\n",
      "    betas: (0.9, 0.95)\n",
      "    capturable: False\n",
      "    differentiable: False\n",
      "    eps: 1e-08\n",
      "    foreach: None\n",
      "    fused: None\n",
      "    lr: 6.25e-05\n",
      "    maximize: False\n",
      "    weight_decay: 0.05\n",
      ")\n"
     ]
    }
   ],
   "source": [
    "model_without_ddp = maeeeg\n",
    "print(\"Model = %s\" % str(model_without_ddp))\n",
    "\n",
    "print(\"base lr: %.2e\" % (lr * 256 / eff_batch_size))\n",
    "print(\"actual lr: %.2e\" % lr)\n",
    "\n",
    "print(\"accumulate grad iterations: %d\" % accum_iter)\n",
    "print(\"effective batch size: %d\" % eff_batch_size)\n",
    "\n",
    "\n",
    "param_groups = optim_factory.add_weight_decay(model_without_ddp, weight_decay)\n",
    "optimizer = torch.optim.AdamW(param_groups, lr=lr, betas=(0.9, 0.95))\n",
    "print(optimizer)\n",
    "loss_scaler = NativeScaler()"
   ]
  },
  {
   "cell_type": "code",
   "execution_count": 14,
   "metadata": {},
   "outputs": [
    {
     "data": {
      "text/plain": [
       "0"
      ]
     },
     "execution_count": 14,
     "metadata": {},
     "output_type": "execute_result"
    }
   ],
   "source": [
    "maeeeg.decoder_mode"
   ]
  },
  {
   "cell_type": "code",
   "execution_count": 11,
   "metadata": {},
   "outputs": [
    {
     "name": "stdout",
     "output_type": "stream",
     "text": [
      "Start training for 100 epochs\n",
      "Epoch: [0]  [  0/747]  eta: 0:24:27  lr: 0.000000  loss: 1032.1836 (1032.1836)  time: 1.9641  data: 0.9803  max mem: 2205\n",
      "Epoch: [0]  [200/747]  eta: 0:00:44  lr: 0.000007  loss: 1114.9192 (1001.7665)  time: 0.0717  data: 0.0002  max mem: 2775\n"
     ]
    },
    {
     "ename": "KeyboardInterrupt",
     "evalue": "",
     "output_type": "error",
     "traceback": [
      "\u001b[0;31m---------------------------------------------------------------------------\u001b[0m",
      "\u001b[0;31mKeyboardInterrupt\u001b[0m                         Traceback (most recent call last)",
      "Cell \u001b[0;32mIn[11], line 5\u001b[0m\n\u001b[1;32m      3\u001b[0m start_time \u001b[39m=\u001b[39m time\u001b[39m.\u001b[39mtime()\n\u001b[1;32m      4\u001b[0m \u001b[39mfor\u001b[39;00m epoch \u001b[39min\u001b[39;00m \u001b[39mrange\u001b[39m(\u001b[39m0\u001b[39m, epochs):\n\u001b[0;32m----> 5\u001b[0m     train_stats \u001b[39m=\u001b[39m train_one_epoch(\n\u001b[1;32m      6\u001b[0m         maeeeg, data_loader_train,\n\u001b[1;32m      7\u001b[0m         optimizer, device, epoch, loss_scaler,\n\u001b[1;32m      8\u001b[0m         log_writer\u001b[39m=\u001b[39;49m\u001b[39mNone\u001b[39;49;00m,\n\u001b[1;32m      9\u001b[0m         args\u001b[39m=\u001b[39;49margs\n\u001b[1;32m     10\u001b[0m     )\n\u001b[1;32m     11\u001b[0m     \u001b[39m# if args.output_dir and (epoch % args.save_every_epoch == 0 or epoch + 1 == args.epochs):\u001b[39;00m\n\u001b[1;32m     12\u001b[0m     \u001b[39m#     misc.save_model(\u001b[39;00m\n\u001b[1;32m     13\u001b[0m     \u001b[39m#         args=args, model=model, model_without_ddp=model_without_ddp, optimizer=optimizer,\u001b[39;00m\n\u001b[1;32m     14\u001b[0m     \u001b[39m#         loss_scaler=loss_scaler, epoch=epoch)\u001b[39;00m\n\u001b[1;32m     16\u001b[0m     log_stats \u001b[39m=\u001b[39m {\u001b[39m*\u001b[39m\u001b[39m*\u001b[39m{\u001b[39mf\u001b[39m\u001b[39m'\u001b[39m\u001b[39mtrain_\u001b[39m\u001b[39m{\u001b[39;00mk\u001b[39m}\u001b[39;00m\u001b[39m'\u001b[39m: v \u001b[39mfor\u001b[39;00m k, v \u001b[39min\u001b[39;00m train_stats\u001b[39m.\u001b[39mitems()},\n\u001b[1;32m     17\u001b[0m                     \u001b[39m'\u001b[39m\u001b[39mepoch\u001b[39m\u001b[39m'\u001b[39m: epoch,}\n",
      "File \u001b[0;32m~/jimmy/eegautoencoder/EEGMAE/engine_pretrain.py:71\u001b[0m, in \u001b[0;36mtrain_one_epoch\u001b[0;34m(model, data_loader, optimizer, device, epoch, loss_scaler, log_writer, args)\u001b[0m\n\u001b[1;32m     69\u001b[0m \u001b[39m#loss /= accum_iter\u001b[39;00m\n\u001b[1;32m     70\u001b[0m loss_total \u001b[39m=\u001b[39m loss_total \u001b[39m/\u001b[39m accum_iter\n\u001b[0;32m---> 71\u001b[0m loss_scaler(loss_total, optimizer, parameters\u001b[39m=\u001b[39;49mmodel\u001b[39m.\u001b[39;49mparameters(),\n\u001b[1;32m     72\u001b[0m             update_grad\u001b[39m=\u001b[39;49m(data_iter_step \u001b[39m+\u001b[39;49m \u001b[39m1\u001b[39;49m) \u001b[39m%\u001b[39;49m accum_iter \u001b[39m==\u001b[39;49m \u001b[39m0\u001b[39;49m)\n\u001b[1;32m     73\u001b[0m \u001b[39mif\u001b[39;00m (data_iter_step \u001b[39m+\u001b[39m \u001b[39m1\u001b[39m) \u001b[39m%\u001b[39m accum_iter \u001b[39m==\u001b[39m \u001b[39m0\u001b[39m:\n\u001b[1;32m     74\u001b[0m     optimizer\u001b[39m.\u001b[39mzero_grad()\n",
      "File \u001b[0;32m~/jimmy/eegautoencoder/EEGMAE/util/misc.py:265\u001b[0m, in \u001b[0;36mNativeScalerWithGradNormCount.__call__\u001b[0;34m(self, loss, optimizer, clip_grad, parameters, create_graph, update_grad)\u001b[0m\n\u001b[1;32m    263\u001b[0m \u001b[39melse\u001b[39;00m:\n\u001b[1;32m    264\u001b[0m     \u001b[39mself\u001b[39m\u001b[39m.\u001b[39m_scaler\u001b[39m.\u001b[39munscale_(optimizer)\n\u001b[0;32m--> 265\u001b[0m     norm \u001b[39m=\u001b[39m get_grad_norm_(parameters)\n\u001b[1;32m    266\u001b[0m \u001b[39mself\u001b[39m\u001b[39m.\u001b[39m_scaler\u001b[39m.\u001b[39mstep(optimizer)\n\u001b[1;32m    267\u001b[0m \u001b[39mself\u001b[39m\u001b[39m.\u001b[39m_scaler\u001b[39m.\u001b[39mupdate()\n",
      "File \u001b[0;32m~/jimmy/eegautoencoder/EEGMAE/util/misc.py:290\u001b[0m, in \u001b[0;36mget_grad_norm_\u001b[0;34m(parameters, norm_type)\u001b[0m\n\u001b[1;32m    288\u001b[0m     total_norm \u001b[39m=\u001b[39m \u001b[39mmax\u001b[39m(p\u001b[39m.\u001b[39mgrad\u001b[39m.\u001b[39mdetach()\u001b[39m.\u001b[39mabs()\u001b[39m.\u001b[39mmax()\u001b[39m.\u001b[39mto(device) \u001b[39mfor\u001b[39;00m p \u001b[39min\u001b[39;00m parameters)\n\u001b[1;32m    289\u001b[0m \u001b[39melse\u001b[39;00m:\n\u001b[0;32m--> 290\u001b[0m     total_norm \u001b[39m=\u001b[39m torch\u001b[39m.\u001b[39mnorm(torch\u001b[39m.\u001b[39mstack([torch\u001b[39m.\u001b[39mnorm(p\u001b[39m.\u001b[39mgrad\u001b[39m.\u001b[39mdetach(), norm_type)\u001b[39m.\u001b[39mto(device) \u001b[39mfor\u001b[39;00m p \u001b[39min\u001b[39;00m parameters]), norm_type)\n\u001b[1;32m    291\u001b[0m \u001b[39mreturn\u001b[39;00m total_norm\n",
      "File \u001b[0;32m~/jimmy/eegautoencoder/EEGMAE/util/misc.py:290\u001b[0m, in \u001b[0;36m<listcomp>\u001b[0;34m(.0)\u001b[0m\n\u001b[1;32m    288\u001b[0m     total_norm \u001b[39m=\u001b[39m \u001b[39mmax\u001b[39m(p\u001b[39m.\u001b[39mgrad\u001b[39m.\u001b[39mdetach()\u001b[39m.\u001b[39mabs()\u001b[39m.\u001b[39mmax()\u001b[39m.\u001b[39mto(device) \u001b[39mfor\u001b[39;00m p \u001b[39min\u001b[39;00m parameters)\n\u001b[1;32m    289\u001b[0m \u001b[39melse\u001b[39;00m:\n\u001b[0;32m--> 290\u001b[0m     total_norm \u001b[39m=\u001b[39m torch\u001b[39m.\u001b[39mnorm(torch\u001b[39m.\u001b[39mstack([torch\u001b[39m.\u001b[39;49mnorm(p\u001b[39m.\u001b[39;49mgrad\u001b[39m.\u001b[39;49mdetach(), norm_type)\u001b[39m.\u001b[39mto(device) \u001b[39mfor\u001b[39;00m p \u001b[39min\u001b[39;00m parameters]), norm_type)\n\u001b[1;32m    291\u001b[0m \u001b[39mreturn\u001b[39;00m total_norm\n",
      "File \u001b[0;32m~/anaconda3/envs/dreamdiffusion/lib/python3.8/site-packages/torch/functional.py:1611\u001b[0m, in \u001b[0;36mnorm\u001b[0;34m(input, p, dim, keepdim, out, dtype)\u001b[0m\n\u001b[1;32m   1609\u001b[0m _p \u001b[39m=\u001b[39m \u001b[39m2.0\u001b[39m \u001b[39mif\u001b[39;00m p \u001b[39mis\u001b[39;00m \u001b[39mNone\u001b[39;00m \u001b[39melse\u001b[39;00m p\n\u001b[1;32m   1610\u001b[0m \u001b[39mif\u001b[39;00m out \u001b[39mis\u001b[39;00m \u001b[39mNone\u001b[39;00m:\n\u001b[0;32m-> 1611\u001b[0m     \u001b[39mreturn\u001b[39;00m torch\u001b[39m.\u001b[39;49mlinalg\u001b[39m.\u001b[39;49mvector_norm(\u001b[39minput\u001b[39;49m, _p, _dim, keepdim, dtype\u001b[39m=\u001b[39;49mdtype)\n\u001b[1;32m   1612\u001b[0m \u001b[39melse\u001b[39;00m:\n\u001b[1;32m   1613\u001b[0m     \u001b[39mreturn\u001b[39;00m torch\u001b[39m.\u001b[39mlinalg\u001b[39m.\u001b[39mvector_norm(\u001b[39minput\u001b[39m, _p, _dim, keepdim, dtype\u001b[39m=\u001b[39mdtype, out\u001b[39m=\u001b[39mout)\n",
      "\u001b[0;31mKeyboardInterrupt\u001b[0m: "
     ]
    }
   ],
   "source": [
    "maeeeg.to(device)\n",
    "print(f\"Start training for {epochs} epochs\")\n",
    "start_time = time.time()\n",
    "for epoch in range(0, epochs):\n",
    "    train_stats = train_one_epoch(\n",
    "        maeeeg, data_loader_train,\n",
    "        optimizer, device, epoch, loss_scaler,\n",
    "        log_writer=None,\n",
    "        args=args\n",
    "    )\n",
    "    # if args.output_dir and (epoch % args.save_every_epoch == 0 or epoch + 1 == args.epochs):\n",
    "    #     misc.save_model(\n",
    "    #         args=args, model=model, model_without_ddp=model_without_ddp, optimizer=optimizer,\n",
    "    #         loss_scaler=loss_scaler, epoch=epoch)\n",
    "\n",
    "    log_stats = {**{f'train_{k}': v for k, v in train_stats.items()},\n",
    "                    'epoch': epoch,}\n",
    "\n",
    "    # if args.output_dir and misc.is_main_process():\n",
    "    #     if log_writer is not None:\n",
    "    #         log_writer.flush()\n",
    "    #     with open(os.path.join(args.output_dir, \"log.txt\"), mode=\"a\", encoding=\"utf-8\") as f:\n",
    "    #         f.write(json.dumps(log_stats) + \"\\n\")\n",
    "\n",
    "total_time = time.time() - start_time\n",
    "total_time_str = str(datetime.timedelta(seconds=int(total_time)))\n",
    "print('Training time {}'.format(total_time_str))\n"
   ]
  },
  {
   "cell_type": "code",
   "execution_count": 458,
   "metadata": {},
   "outputs": [
    {
     "data": {
      "text/plain": [
       "MaskedAutoencoderViT(\n",
       "  (patch_embed): PatchEmbed_org(\n",
       "    (proj): Conv2d(128, 768, kernel_size=(4, 4), stride=(4, 4))\n",
       "  )\n",
       "  (blocks): ModuleList(\n",
       "    (0-5): 6 x Block(\n",
       "      (norm1): LayerNorm((768,), eps=1e-06, elementwise_affine=True)\n",
       "      (attn): Attention(\n",
       "        (qkv): Linear(in_features=768, out_features=2304, bias=True)\n",
       "        (attn_drop): Dropout(p=0.0, inplace=False)\n",
       "        (proj): Linear(in_features=768, out_features=768, bias=True)\n",
       "        (proj_drop): Dropout(p=0.0, inplace=False)\n",
       "      )\n",
       "      (drop_path): Identity()\n",
       "      (norm2): LayerNorm((768,), eps=1e-06, elementwise_affine=True)\n",
       "      (mlp): Mlp(\n",
       "        (fc1): Linear(in_features=768, out_features=3072, bias=True)\n",
       "        (act): GELU(approximate='none')\n",
       "        (drop1): Dropout(p=0.0, inplace=False)\n",
       "        (fc2): Linear(in_features=3072, out_features=768, bias=True)\n",
       "        (drop2): Dropout(p=0.0, inplace=False)\n",
       "      )\n",
       "    )\n",
       "  )\n",
       "  (norm): LayerNorm((768,), eps=1e-06, elementwise_affine=True)\n",
       "  (decoder_embed): Linear(in_features=768, out_features=512, bias=True)\n",
       "  (decoder_blocks): ModuleList(\n",
       "    (0-7): 8 x Block(\n",
       "      (norm1): LayerNorm((512,), eps=1e-06, elementwise_affine=True)\n",
       "      (attn): Attention(\n",
       "        (qkv): Linear(in_features=512, out_features=1536, bias=True)\n",
       "        (attn_drop): Dropout(p=0.0, inplace=False)\n",
       "        (proj): Linear(in_features=512, out_features=512, bias=True)\n",
       "        (proj_drop): Dropout(p=0.0, inplace=False)\n",
       "      )\n",
       "      (drop_path): Identity()\n",
       "      (norm2): LayerNorm((512,), eps=1e-06, elementwise_affine=True)\n",
       "      (mlp): Mlp(\n",
       "        (fc1): Linear(in_features=512, out_features=2048, bias=True)\n",
       "        (act): GELU(approximate='none')\n",
       "        (drop1): Dropout(p=0.0, inplace=False)\n",
       "        (fc2): Linear(in_features=2048, out_features=512, bias=True)\n",
       "        (drop2): Dropout(p=0.0, inplace=False)\n",
       "      )\n",
       "    )\n",
       "  )\n",
       "  (decoder_norm): LayerNorm((512,), eps=1e-06, elementwise_affine=True)\n",
       "  (decoder_pred): Linear(in_features=512, out_features=2048, bias=True)\n",
       "  (log_softmax): LogSoftmax(dim=-1)\n",
       ")"
      ]
     },
     "execution_count": 458,
     "metadata": {},
     "output_type": "execute_result"
    }
   ],
   "source": [
    "maeeeg.to('cpu')"
   ]
  },
  {
   "cell_type": "code",
   "execution_count": 459,
   "metadata": {},
   "outputs": [
    {
     "data": {
      "text/plain": [
       "torch.Size([128, 64, 64])"
      ]
     },
     "execution_count": 459,
     "metadata": {},
     "output_type": "execute_result"
    }
   ],
   "source": [
    "x = eegdataset.__getitem__(0)[0]\n",
    "x.shape"
   ]
  },
  {
   "cell_type": "code",
   "execution_count": 460,
   "metadata": {},
   "outputs": [
    {
     "name": "stdout",
     "output_type": "stream",
     "text": [
      "tensor(9.8449, grad_fn=<DivBackward0>)\n"
     ]
    }
   ],
   "source": [
    "loss, y, mask_, _ = maeeeg(x.unsqueeze(0), 0.7)\n",
    "print(loss)"
   ]
  },
  {
   "cell_type": "code",
   "execution_count": 462,
   "metadata": {},
   "outputs": [
    {
     "name": "stdout",
     "output_type": "stream",
     "text": [
      "Package                  Version\n",
      "------------------------ ------------\n",
      "absl-py                  2.0.0\n",
      "aiohttp                  3.8.6\n",
      "aiosignal                1.3.1\n",
      "antlr4-python3-runtime   4.8\n",
      "asttokens                2.4.1\n",
      "async-timeout            4.0.3\n",
      "attrs                    23.1.0\n",
      "audioread                3.0.1\n",
      "backcall                 0.2.0\n",
      "cachetools               5.3.2\n",
      "certifi                  2023.7.22\n",
      "cffi                     1.16.0\n",
      "charset-normalizer       3.3.1\n",
      "click                    8.1.7\n",
      "cloudpickle              3.0.0\n",
      "comm                     0.1.4\n",
      "contourpy                1.1.1\n",
      "cycler                   0.12.1\n",
      "debugpy                  1.6.7\n",
      "decorator                5.1.1\n",
      "defusedxml               0.7.1\n",
      "docker-pycreds           0.4.0\n",
      "einops                   0.3.0\n",
      "entrypoints              0.4\n",
      "executing                2.0.1\n",
      "filelock                 3.12.4\n",
      "fonttools                4.43.1\n",
      "frozenlist               1.4.0\n",
      "fsspec                   2023.10.0\n",
      "gitdb                    4.0.11\n",
      "GitPython                3.1.40\n",
      "google-auth              2.23.3\n",
      "google-auth-oauthlib     1.0.0\n",
      "grpcio                   1.59.0\n",
      "huggingface-hub          0.17.3\n",
      "idna                     3.4\n",
      "imageio                  2.31.6\n",
      "importlib-metadata       6.8.0\n",
      "importlib-resources      6.1.0\n",
      "ipykernel                6.26.0\n",
      "ipython                  8.12.0\n",
      "jedi                     0.19.1\n",
      "Jinja2                   3.1.2\n",
      "joblib                   1.3.2\n",
      "jupyter-client           7.3.4\n",
      "jupyter_core             5.5.0\n",
      "kiwisolver               1.4.5\n",
      "kornia                   0.7.0\n",
      "lazy_loader              0.3\n",
      "librosa                  0.10.1\n",
      "llvmlite                 0.41.1\n",
      "lpips                    0.1.4\n",
      "Markdown                 3.5\n",
      "MarkupSafe               2.1.3\n",
      "matplotlib               3.7.3\n",
      "matplotlib-inline        0.1.6\n",
      "mne                      1.6.0\n",
      "mpmath                   1.3.0\n",
      "msgpack                  1.0.7\n",
      "multidict                6.0.4\n",
      "natsort                  8.4.0\n",
      "nest-asyncio             1.5.8\n",
      "networkx                 3.1\n",
      "numba                    0.58.1\n",
      "numpy                    1.22.0\n",
      "nvidia-cublas-cu12       12.1.3.1\n",
      "nvidia-cuda-cupti-cu12   12.1.105\n",
      "nvidia-cuda-nvrtc-cu12   12.1.105\n",
      "nvidia-cuda-runtime-cu12 12.1.105\n",
      "nvidia-cudnn-cu12        8.9.2.26\n",
      "nvidia-cufft-cu12        11.0.2.54\n",
      "nvidia-curand-cu12       10.3.2.106\n",
      "nvidia-cusolver-cu12     11.4.5.107\n",
      "nvidia-cusparse-cu12     12.1.0.106\n",
      "nvidia-nccl-cu12         2.18.1\n",
      "nvidia-nvjitlink-cu12    12.3.101\n",
      "nvidia-nvtx-cu12         12.1.105\n",
      "oauthlib                 3.2.2\n",
      "omegaconf                2.1.1\n",
      "packaging                23.2\n",
      "pandas                   2.0.3\n",
      "parso                    0.8.3\n",
      "pathtools                0.1.2\n",
      "pexpect                  4.8.0\n",
      "pickleshare              0.7.5\n",
      "Pillow                   9.0.1\n",
      "pip                      23.3\n",
      "platformdirs             4.0.0\n",
      "pooch                    1.8.0\n",
      "promise                  2.3\n",
      "prompt-toolkit           3.0.41\n",
      "protobuf                 3.20.1\n",
      "psutil                   5.9.0\n",
      "ptyprocess               0.7.0\n",
      "pure-eval                0.2.2\n",
      "pyasn1                   0.5.0\n",
      "pyasn1-modules           0.3.0\n",
      "pycparser                2.21\n",
      "pyDeprecate              0.3.2\n",
      "Pygments                 2.17.2\n",
      "pyparsing                3.1.1\n",
      "python-dateutil          2.8.2\n",
      "pytorch-lightning        1.6.5\n",
      "pytz                     2023.3.post1\n",
      "PyWavelets               1.4.1\n",
      "PyYAML                   6.0.1\n",
      "pyzmq                    25.1.0\n",
      "regex                    2023.10.3\n",
      "requests                 2.31.0\n",
      "requests-oauthlib        1.3.1\n",
      "rsa                      4.9\n",
      "safetensors              0.4.0\n",
      "scikit-image             0.21.0\n",
      "scikit-learn             1.3.2\n",
      "scipy                    1.10.1\n",
      "seaborn                  0.13.0\n",
      "sentry-sdk               1.32.0\n",
      "setproctitle             1.3.3\n",
      "setuptools               68.0.0\n",
      "shortuuid                1.0.11\n",
      "six                      1.16.0\n",
      "sklearn                  0.0.post11\n",
      "smmap                    5.0.1\n",
      "soundfile                0.12.1\n",
      "soxr                     0.3.7\n",
      "stack-data               0.6.2\n",
      "submitit                 1.5.1\n",
      "sympy                    1.12\n",
      "tensorboard              2.14.0\n",
      "tensorboard-data-server  0.7.2\n",
      "threadpoolctl            3.2.0\n",
      "tifffile                 2023.7.10\n",
      "timm                     0.5.4\n",
      "tokenizers               0.14.1\n",
      "torch                    2.1.1\n",
      "torch-fidelity           0.3.0\n",
      "torchaudio               2.1.1\n",
      "torchmetrics             0.9.2\n",
      "torchvision              0.13.1+cu116\n",
      "tornado                  6.1\n",
      "tqdm                     4.64.0\n",
      "traitlets                5.14.0\n",
      "transformers             4.34.1\n",
      "triton                   2.1.0\n",
      "typing_extensions        4.8.0\n",
      "tzdata                   2023.3\n",
      "urllib3                  2.0.7\n",
      "wandb                    0.12.21\n",
      "wcwidth                  0.2.12\n",
      "Werkzeug                 3.0.1\n",
      "wheel                    0.41.2\n",
      "yarl                     1.9.2\n",
      "zipp                     3.17.0\n"
     ]
    }
   ],
   "source": [
    "!pip list timm"
   ]
  },
  {
   "cell_type": "code",
   "execution_count": 452,
   "metadata": {},
   "outputs": [
    {
     "data": {
      "text/plain": [
       "torch.Size([1, 77, 768])"
      ]
     },
     "execution_count": 452,
     "metadata": {},
     "output_type": "execute_result"
    }
   ],
   "source": [
    "maeeeg.forward_encoder(x.unsqueeze(0), 0.7)[0].shape"
   ]
  },
  {
   "cell_type": "code",
   "execution_count": 456,
   "metadata": {},
   "outputs": [
    {
     "data": {
      "text/plain": [
       "115.5"
      ]
     },
     "execution_count": 456,
     "metadata": {},
     "output_type": "execute_result"
    }
   ],
   "source": [
    "(77*768)/512"
   ]
  },
  {
   "cell_type": "code",
   "execution_count": 440,
   "metadata": {},
   "outputs": [],
   "source": [
    "y = unpatchify(y, 128)\n",
    "y = torch.einsum('nchw->nhwc', y).detach().cpu().squeeze()"
   ]
  },
  {
   "cell_type": "code",
   "execution_count": 441,
   "metadata": {},
   "outputs": [
    {
     "data": {
      "text/plain": [
       "torch.Size([64, 64, 128])"
      ]
     },
     "execution_count": 441,
     "metadata": {},
     "output_type": "execute_result"
    }
   ],
   "source": [
    "y.shape"
   ]
  },
  {
   "cell_type": "code",
   "execution_count": 442,
   "metadata": {},
   "outputs": [
    {
     "data": {
      "text/plain": [
       "<matplotlib.image.AxesImage at 0x7f20491dfa30>"
      ]
     },
     "execution_count": 442,
     "metadata": {},
     "output_type": "execute_result"
    },
    {
     "data": {
      "image/png": "[encoded data removed]",
      "text/plain": [
       "<Figure size 640x480 with 1 Axes>"
      ]
     },
     "metadata": {},
     "output_type": "display_data"
    }
   ],
   "source": [
    "\n",
    "plt.imshow(y[:,:,100], aspect=\"auto\", origin=\"lower\")"
   ]
  },
  {
   "cell_type": "code",
   "execution_count": 443,
   "metadata": {},
   "outputs": [
    {
     "data": {
      "text/plain": [
       "<matplotlib.image.AxesImage at 0x7f2049169ac0>"
      ]
     },
     "execution_count": 443,
     "metadata": {},
     "output_type": "execute_result"
    },
    {
     "data": {
      "image/png": "[encoded data removed]",
      "text/plain": [
       "<Figure size 640x480 with 1 Axes>"
      ]
     },
     "metadata": {},
     "output_type": "display_data"
    }
   ],
   "source": [
    "plt.imshow(x[100], aspect=\"auto\", origin=\"lower\")"
   ]
  },
  {
   "cell_type": "code",
   "execution_count": 448,
   "metadata": {},
   "outputs": [
    {
     "data": {
      "text/plain": [
       "<matplotlib.image.AxesImage at 0x7f2048f56640>"
      ]
     },
     "execution_count": 448,
     "metadata": {},
     "output_type": "execute_result"
    },
    {
     "data": {
      "image/png": "[encoded data removed]",
      "text/plain": [
       "<Figure size 640x480 with 1 Axes>"
      ]
     },
     "metadata": {},
     "output_type": "display_data"
    }
   ],
   "source": [
    "plt.imshow(im_paste.squeeze()[:,:,100], aspect=\"auto\", origin=\"lower\")"
   ]
  },
  {
   "cell_type": "code",
   "execution_count": 446,
   "metadata": {},
   "outputs": [
    {
     "data": {
      "text/plain": [
       "<matplotlib.image.AxesImage at 0x7f2049068580>"
      ]
     },
     "execution_count": 446,
     "metadata": {},
     "output_type": "execute_result"
    },
    {
     "data": {
      "image/png": "[encoded data removed]",
      "text/plain": [
       "<Figure size 640x480 with 1 Axes>"
      ]
     },
     "metadata": {},
     "output_type": "display_data"
    }
   ],
   "source": [
    "plt.imshow(im_masked.squeeze()[:,:,100], aspect=\"auto\", origin=\"lower\")"
   ]
  },
  {
   "cell_type": "code",
   "execution_count": 445,
   "metadata": {},
   "outputs": [
    {
     "name": "stdout",
     "output_type": "stream",
     "text": [
      "torch.Size([1, 256, 2048])\n",
      "torch.Size([1, 128, 64, 64])\n",
      "torch.Size([1, 64, 64, 128])\n",
      "x torch.Size([128, 64, 64])\n"
     ]
    }
   ],
   "source": [
    "mask = mask_.detach()\n",
    "#mask = mask.unsqueeze(-1).repeat(1, 1, model.patch_embed.patch_size[0]**2 *3)  # (N, H*W, p*p*3)\n",
    "mask = mask.unsqueeze(-1).repeat(1, 1, maeeeg.patch_embed.patch_size[0]**2 *128)\n",
    "print(mask.shape)\n",
    "mask = unpatchify(mask,128)  # 0 is keep, 1 is remove\n",
    "print(mask.shape)\n",
    "mask = torch.einsum('nchw->nhwc', mask).detach().cpu()\n",
    "print(mask.shape)\n",
    "\n",
    "x_ = torch.einsum('nchw->nhwc', x.unsqueeze(0))\n",
    "print('x',x.shape)\n",
    "# masked image\n",
    "im_masked = x_ * ( 1 - mask) \n",
    "\n",
    "im_paste = x_ * (1 - mask) + y * mask\n",
    "\n",
    "im_masked2 = im_masked + (1 - mask)*-53"
   ]
  },
  {
   "cell_type": "code",
   "execution_count": 185,
   "metadata": {},
   "outputs": [],
   "source": [
    "def unpatchify(x, c=1):\n",
    "    \"\"\"\n",
    "    x: (N, L, patch_size**2 *3)\n",
    "    specs: (N, 1, H, W)\n",
    "    \"\"\"\n",
    "    p = 4 \n",
    "    h = 64//p\n",
    "    w = 64//p\n",
    "    x = x.reshape(shape=(x.shape[0], h, w, p, p, c))\n",
    "    x = torch.einsum('nhwpqc->nchpwq', x)\n",
    "    specs = x.reshape(shape=(x.shape[0], c, h * p, w * p))\n",
    "    return specs"
   ]
  }
 ],
 "metadata": {
  "kernelspec": {
   "display_name": "dreamdiffusion",
   "language": "python",
   "name": "python3"
  },
  "language_info": {
   "codemirror_mode": {
    "name": "ipython",
    "version": 3
   },
   "file_extension": ".py",
   "mimetype": "text/x-python",
   "name": "python",
   "nbconvert_exporter": "python",
   "pygments_lexer": "ipython3",
   "version": "3.8.5"
  },
  "orig_nbformat": 4
 },
 "nbformat": 4,
 "nbformat_minor": 2
}
